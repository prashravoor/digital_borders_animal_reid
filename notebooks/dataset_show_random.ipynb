{
 "cells": [
  {
   "cell_type": "code",
   "execution_count": null,
   "metadata": {},
   "outputs": [],
   "source": [
    "import matplotlib.pyplot as plt\n",
    "import cv2\n",
    "import os\n",
    "import numpy as np\n",
    "import matplotlib.gridspec as gridspec"
   ]
  },
  {
   "cell_type": "code",
   "execution_count": null,
   "metadata": {},
   "outputs": [],
   "source": [
    "NUM_IMAGES = 16\n",
    "amur = '../amur/plain_reid_train/train'\n",
    "elp = '../ELPephants/images'\n",
    "amur_det = '../amur/detection_train/trainval'\n",
    "jaguar_det = '../jaguars'\n",
    "jaguar = '../jaguars/reid'\n",
    "im_size = 416,416"
   ]
  },
  {
   "cell_type": "code",
   "execution_count": null,
   "metadata": {},
   "outputs": [],
   "source": [
    "def loadLabels(folder):\n",
    "    result = {}\n",
    "    if 'amur' in folder:\n",
    "        file = '{}/{}'.format(folder, 'reid_list_train.csv')\n",
    "        with open(file) as f:\n",
    "            lines = [x.strip() for x in f.readlines()]\n",
    "            f.close()\n",
    "\n",
    "        for line in lines:\n",
    "            parts = line.split(',')\n",
    "            result['{}/{}'.format(folder, parts[1])] = parts[0]\n",
    "    else:\n",
    "        file = '{}/{}'.format(folder, '../class_mapping.txt')\n",
    "        names = [x for x in os.listdir(elp) if x.endswith('.jpg')]\n",
    "        temp = {}\n",
    "        with open(file) as f:\n",
    "            lines = [x.strip() for x in f.readlines()]\n",
    "            f.close()\n",
    "        for line in lines:\n",
    "            parts = line.split('\\t')\n",
    "            temp[parts[0]] = parts[1]\n",
    "        \n",
    "        for name in names:\n",
    "            result['{}/{}'.format(folder, name)] = temp[name.split('_')[0]]\n",
    "    return result            "
   ]
  },
  {
   "cell_type": "code",
   "execution_count": null,
   "metadata": {},
   "outputs": [],
   "source": [
    "def showImagesInFolder(folder, numImages):\n",
    "    images = ['{}/{}'.format(folder,x) for x in os.listdir(folder) if x.endswith('.jpg')]\n",
    "    rows = int(numImages ** 0.5)\n",
    "    # fig, subplots = plt.subplots(rows, rows, sharex=True, sharey=True)\n",
    "    _ = plt.figure(figsize=(20,20))\n",
    "    gs = gridspec.GridSpec(rows, rows)\n",
    "    gs.update(wspace=0, hspace=0)\n",
    "    \n",
    "    \n",
    "    k = 0\n",
    "    to_show = np.random.choice(range(len(images)), numImages)\n",
    "    for i in range(numImages):\n",
    "        ax = plt.subplot(gs[i])\n",
    "        plt.axis('off')\n",
    "        image = cv2.imread(images[to_show[i]])\n",
    "        image = cv2.resize(image, im_size)\n",
    "        image = image[:,:,(2,1,0)] # CV2 reads image in BGR. Convert to RGB\n",
    "        ax.imshow(image)"
   ]
  },
  {
   "cell_type": "code",
   "execution_count": null,
   "metadata": {
    "scrolled": false
   },
   "outputs": [],
   "source": [
    "showImagesInFolder(amur_det, NUM_IMAGES)"
   ]
  },
  {
   "cell_type": "code",
   "execution_count": null,
   "metadata": {
    "scrolled": false
   },
   "outputs": [],
   "source": [
    "showImagesInFolder(amur, NUM_IMAGES)"
   ]
  },
  {
   "cell_type": "code",
   "execution_count": null,
   "metadata": {
    "scrolled": false
   },
   "outputs": [],
   "source": [
    "showImagesInFolder(elp, NUM_IMAGES)"
   ]
  },
  {
   "cell_type": "code",
   "execution_count": null,
   "metadata": {},
   "outputs": [],
   "source": [
    "showImagesInFolder(jaguar, NUM_IMAGES)"
   ]
  }
 ],
 "metadata": {
  "kernelspec": {
   "display_name": "Python 3",
   "language": "python",
   "name": "python3"
  },
  "language_info": {
   "codemirror_mode": {
    "name": "ipython",
    "version": 3
   },
   "file_extension": ".py",
   "mimetype": "text/x-python",
   "name": "python",
   "nbconvert_exporter": "python",
   "pygments_lexer": "ipython3",
   "version": "3.6.9"
  }
 },
 "nbformat": 4,
 "nbformat_minor": 2
}
