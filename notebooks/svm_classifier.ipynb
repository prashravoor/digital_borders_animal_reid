{
 "cells": [
  {
   "cell_type": "code",
   "execution_count": null,
   "metadata": {},
   "outputs": [],
   "source": [
    "from sklearn import svm\n",
    "from sklearn.decomposition import PCA\n",
    "from sklearn import metrics\n",
    "from sklearn.model_selection import train_test_split\n",
    "import pymongo\n",
    "import scipy\n",
    "import numpy as np\n",
    "from db_interface import DbInterface,DbRecord"
   ]
  },
  {
   "cell_type": "code",
   "execution_count": null,
   "metadata": {},
   "outputs": [],
   "source": [
    "def getDbName(datasetName, modelName):\n",
    "    return datasetName + '_' + modelName"
   ]
  },
  {
   "cell_type": "code",
   "execution_count": null,
   "metadata": {},
   "outputs": [],
   "source": [
    "def createSvmModel(kernelType):\n",
    "    return svm.SVC(kernel=kernelType)"
   ]
  },
  {
   "cell_type": "code",
   "execution_count": null,
   "metadata": {},
   "outputs": [],
   "source": [
    "def transform(features, trType=None):\n",
    "    tr = lambda x: x.flatten()\n",
    "    if trType == 'pca':\n",
    "        features = [x.flatten() for x in features]\n",
    "        tr = lambda features: PCA(n_components=0.95).fit_transform(features)\n",
    "        return tr(features)\n",
    "    elif trType == 'logm':\n",
    "        def matrixLog(f):\n",
    "            if not len(f.shape) == 2:\n",
    "                # Reshape into a 2d matrix\n",
    "                lastDim = f.shape[-1]\n",
    "                f = f.reshape((int(f.size/lastDim), lastDim))\n",
    "            # Normalize f\n",
    "            abs_sum = abs(np.sum(f))\n",
    "            f /= (max(10e-8, abs_sum))\n",
    "            f = f @ f.T\n",
    "            f = f + 10e-5*np.identity(f.shape[0])\n",
    "            res = np.tril(scipy.linalg.logm(f))\n",
    "            res = res.flatten()\n",
    "            return res # res[res != 0]\n",
    "        tr = matrixLog\n",
    "            \n",
    "    return [tr(feature) for feature in features]"
   ]
  },
  {
   "cell_type": "code",
   "execution_count": null,
   "metadata": {},
   "outputs": [],
   "source": [
    "def train_svm(svmModel, client, datasetName, modelName, layer):    \n",
    "    dbCursor = client.getDB(getDbName(datasetName, modelName))\n",
    "\n",
    "    records = [dbCursor.getRecord(layer, recordId) for recordId in dbCursor.getRecordIds(layer)]\n",
    "    obs = np.array([x.feature for x in records])\n",
    "    target = [x.animalId for x in records]\n",
    "\n",
    "    # print('Training Size: {}, Test Size: {}'.format(len(X_train), len(X_test)))\n",
    "    max_acc = 0\n",
    "    best_tr_type = None\n",
    "    best_kernel_type = None\n",
    "    for trType in ['logm']: # [None, 'pca', 'logm']:\n",
    "        try:\n",
    "            samples = transform(obs, trType)\n",
    "        except ValueError:\n",
    "            print('Transformation {} couldnt be applied for layer {}, skipping it'.format(trType, layer))\n",
    "            continue\n",
    "        X_train, X_test, y_train, y_test = train_test_split(samples, target, test_size=0.25)\n",
    "\n",
    "        for kernelType in ['linear', 'rbf']:\n",
    "            svmModel = createSvmModel(kernelType)\n",
    "            try:\n",
    "                svmModel.fit(X_train, y_train)\n",
    "            except ValueError as e:\n",
    "                raise e\n",
    "                print('Failed to fit SVM model with kernel {}, for layer {}, transform {}, skipping'.format(kernelType, layer, trType))\n",
    "                continue\n",
    "\n",
    "            y_pred = svmModel.predict(X_test)\n",
    "            acc = metrics.accuracy_score(y_test, y_pred)\n",
    "            print('Layer Name: {}, Kernel Type: {}, Transofrm: {}, Accuracy: {}'\n",
    "                      .format(layer, kernelType, trType, acc))\n",
    "            if acc > max_acc:\n",
    "                print('New max accuracy using layer {}, Kernel: {}, Transform {}. Value: {}'.format(layer, kernelType, trType, acc))\n",
    "                best_tr_type = trType\n",
    "                best_kernel_type = kernelType\n",
    "\n",
    "    return max_acc, best_tr_type, best_kernel_type"
   ]
  },
  {
   "cell_type": "code",
   "execution_count": null,
   "metadata": {},
   "outputs": [],
   "source": [
    "modelNames = ['alexnet', 'googlenet']\n",
    "datasetNames = ['amur']\n",
    "client = DbInterface()\n",
    "\n",
    "overall_max_acc = 0\n",
    "max_acc_layer = None\n",
    "max_acc_transform = None\n",
    "max_acc_model = None\n",
    "best_kernel_type = None\n",
    "\n",
    "for dsName,modelName in [(x,y) for x in datasetNames for y in modelNames]:\n",
    "    dbCursor = client.getDB(getDbName(dsName, modelName))\n",
    "    layerNames = dbCursor.getCollectionNames()\n",
    "    for layer in layerNames:\n",
    "        print('Starting Training for model {}, over layer {}'.format(modelName, layer))\n",
    "        acc, trType, kernelType = train_svm(model, client, dsName, modelName, layer)\n",
    "        if acc > overall_max_acc:\n",
    "            print('Global Max accuracy being set, Value: {}, Model: {}, Layer: {}, Transform: {}'.\n",
    "                      format(acc, modelName, layer, trType))\n",
    "            overall_max_acc = acc\n",
    "            max_acc_layer = layer\n",
    "            max_acc_model = modelName\n",
    "            max_acc_transform = trType\n",
    "            best_kernel_type = kernelType"
   ]
  },
  {
   "cell_type": "code",
   "execution_count": null,
   "metadata": {},
   "outputs": [],
   "source": [
    "dbCursor = client.getDB('amur_alexnet')\n",
    "records = [dbCursor.getRecord('pool5', recordId) for recordId in dbCursor.getRecordIds('pool5')]"
   ]
  },
  {
   "cell_type": "code",
   "execution_count": null,
   "metadata": {},
   "outputs": [],
   "source": [
    "obs = np.array([x.feature for x in records])"
   ]
  },
  {
   "cell_type": "code",
   "execution_count": null,
   "metadata": {},
   "outputs": [],
   "source": [
    "features = obs[0] / (sum(obs[0]) ** 2) ** (1/2)"
   ]
  },
  {
   "cell_type": "code",
   "execution_count": null,
   "metadata": {},
   "outputs": [],
   "source": [
    "obs[0].size / obs[0].shape[-1]"
   ]
  },
  {
   "cell_type": "code",
   "execution_count": null,
   "metadata": {},
   "outputs": [],
   "source": [
    "features = features.reshape(256 * 6,6)"
   ]
  },
  {
   "cell_type": "code",
   "execution_count": null,
   "metadata": {},
   "outputs": [],
   "source": [
    "features = features @ features.T"
   ]
  },
  {
   "cell_type": "code",
   "execution_count": null,
   "metadata": {},
   "outputs": [],
   "source": [
    "features.shape"
   ]
  },
  {
   "cell_type": "code",
   "execution_count": null,
   "metadata": {},
   "outputs": [],
   "source": [
    "obs[0].shape"
   ]
  },
  {
   "cell_type": "code",
   "execution_count": null,
   "metadata": {},
   "outputs": [],
   "source": [
    "f = obs[0]"
   ]
  },
  {
   "cell_type": "code",
   "execution_count": null,
   "metadata": {},
   "outputs": [],
   "source": [
    "f = f.reshape(256*6,6)\n",
    "abs_sum = abs(np.sum(f))\n",
    "\n",
    "max(10e-8,abs_sum)"
   ]
  },
  {
   "cell_type": "code",
   "execution_count": null,
   "metadata": {},
   "outputs": [],
   "source": [
    "np.sum(f)"
   ]
  },
  {
   "cell_type": "code",
   "execution_count": null,
   "metadata": {},
   "outputs": [],
   "source": [
    "samples = transform(obs, 'logm')"
   ]
  },
  {
   "cell_type": "code",
   "execution_count": null,
   "metadata": {},
   "outputs": [],
   "source": [
    "samples[0].shape"
   ]
  },
  {
   "cell_type": "code",
   "execution_count": null,
   "metadata": {},
   "outputs": [],
   "source": [
    "obs[0].size"
   ]
  },
  {
   "cell_type": "code",
   "execution_count": null,
   "metadata": {},
   "outputs": [],
   "source": [
    "a = np.array([[1.,-2.],[3.,-4.]])\n",
    "a / abs(sum(a))"
   ]
  },
  {
   "cell_type": "code",
   "execution_count": null,
   "metadata": {},
   "outputs": [],
   "source": [
    "np.reciprocal([3, 7])"
   ]
  }
 ],
 "metadata": {
  "kernelspec": {
   "display_name": "Python 3",
   "language": "python",
   "name": "python3"
  },
  "language_info": {
   "codemirror_mode": {
    "name": "ipython",
    "version": 3
   },
   "file_extension": ".py",
   "mimetype": "text/x-python",
   "name": "python",
   "nbconvert_exporter": "python",
   "pygments_lexer": "ipython3",
   "version": "3.6.8"
  }
 },
 "nbformat": 4,
 "nbformat_minor": 2
}
