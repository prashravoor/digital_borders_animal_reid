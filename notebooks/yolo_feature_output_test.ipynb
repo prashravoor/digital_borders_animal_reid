{
 "cells": [
  {
   "cell_type": "code",
   "execution_count": null,
   "metadata": {},
   "outputs": [],
   "source": [
    "import cv2\n",
    "import cv2.dnn as dnn\n",
    "import numpy as np\n",
    "import matplotlib.pyplot as plt\n",
    "import sklearn\n",
    "from sklearn import preprocessing\n",
    "import scipy"
   ]
  },
  {
   "cell_type": "code",
   "execution_count": null,
   "metadata": {},
   "outputs": [],
   "source": [
    "def get_output_layers(net):    \n",
    "    layer_names = net.getLayerNames()    \n",
    "    output_layers = [layer_names[i[0] - 1] for i in net.getUnconnectedOutLayers()]\n",
    "    return output_layers\n",
    "\n",
    "# function to draw bounding box on the detected object with class name\n",
    "def draw_bounding_box(img, class_id, confidence, x, y, x_plus_w, y_plus_h):\n",
    "    # label = str(classes[class_id])\n",
    "    # color = COLORS[class_id]\n",
    "    # color = 'blue'\n",
    "    cv2.rectangle(img, (x,y), (x_plus_w,y_plus_h), 1, 2)\n",
    "    # cv2.putText(img, label, (x-10,y-10), cv2.FONT_HERSHEY_SIMPLEX, 0.5, color, 2)"
   ]
  },
  {
   "cell_type": "code",
   "execution_count": null,
   "metadata": {},
   "outputs": [],
   "source": [
    "net = dnn.readNetFromDarknet('../darknet/darknet/cfg/yolov3.cfg', '../darknet/darknet/yolov3.weights')"
   ]
  },
  {
   "cell_type": "code",
   "execution_count": null,
   "metadata": {},
   "outputs": [],
   "source": [
    "def get_bounding_boxes(image):\n",
    "    scale = 1/255\n",
    "    width = image.shape[1]\n",
    "    height = image.shape[0]\n",
    "    blob = dnn.blobFromImage(image, scale, (416,416), (0,0,0), True, crop=False)\n",
    "    net.setInput(blob)\n",
    "    outs = net.forward(get_output_layers(net))\n",
    "    outs = net.forward()\n",
    "\n",
    "    conf_threshold = 0.9\n",
    "    nms_threshold = 0.45\n",
    "\n",
    "    class_ids = []\n",
    "    confidences = []\n",
    "    boxes = []\n",
    "\n",
    "    for out in outs:\n",
    "        for detection in out:\n",
    "                scores = detection[5:]\n",
    "                class_id = np.argmax(scores)\n",
    "                confidence = scores[class_id]\n",
    "            # if confidence > 0.5:\n",
    "                center_x = int(detection[0] * width)\n",
    "                center_y = int(detection[1] * height)\n",
    "                w = int(detection[2] * width)\n",
    "                h = int(detection[3] * height)\n",
    "                x = (center_x - w/2.0)\n",
    "                y = (center_y - h/2.0)\n",
    "                class_ids.append(class_id)\n",
    "                confidences.append(float(confidence))\n",
    "                boxes.append([x, y, w, h])\n",
    "\n",
    "    indices = cv2.dnn.NMSBoxes(boxes, confidences, conf_threshold, nms_threshold)\n",
    "    bboxes = []\n",
    "\n",
    "    test = image\n",
    "    for i in indices:\n",
    "        i = i[0]\n",
    "        box = boxes[i]\n",
    "        x = round(box[0])\n",
    "        y = round(box[1])\n",
    "        w = box[2]\n",
    "        h = box[3]\n",
    "\n",
    "        # draw_bounding_box(test, class_ids[i], confidences[i], round(x), round(y), round(x+w), round(y+h))\n",
    "        bboxes.append(image[y:y+h, x:w+x])\n",
    "\n",
    "    # plt.imshow(test)\n",
    "\n",
    "    # fig, axes = plt.subplots(1, len(bboxes))\n",
    "\n",
    "    # if len(bboxes) == 1:\n",
    "    #    axes.imshow(bboxes[0])\n",
    "    #else:\n",
    "    #    for i in range(len(bboxes)):\n",
    "    #        axes[i].imshow(bboxes[i])\n",
    "\n",
    "    if len(bboxes) == 1:\n",
    "        return bboxes[0]\n",
    "    return bboxes[1]"
   ]
  },
  {
   "cell_type": "code",
   "execution_count": null,
   "metadata": {},
   "outputs": [],
   "source": [
    "class YoloBoundingBox:\n",
    "    def __init__(self, x, y, w, h, width, height):\n",
    "        center_x = int(x * width)\n",
    "        center_y = int(y * height)\n",
    "        self.top_left = [int(center_x / 2.0), int(center_y / 2.0)]\n",
    "        self.bottom_right = [self.top_left[0] + height, self.top_left[1] + width]"
   ]
  },
  {
   "cell_type": "code",
   "execution_count": null,
   "metadata": {},
   "outputs": [],
   "source": [
    "image  = cv2.imread('images/dog.jpg')\n",
    "scale = 1/255\n",
    "width = image.shape[1]\n",
    "height = image.shape[0]\n",
    "blob = dnn.blobFromImage(image, scale, (416,416), (0,0,0), True, crop=False)\n",
    "net.setInput(blob)\n",
    "outs = net.forward(get_output_layers(net))\n",
    "\n",
    "conf_threshold = 0.9\n",
    "nms_threshold = 0.45\n",
    "\n",
    "class_ids = []\n",
    "confidences = []\n",
    "boxes = []\n",
    "\n",
    "for out in outs:\n",
    "    for detection in out:\n",
    "        scores = detection[5:]\n",
    "        class_id = np.argmax(scores)\n",
    "        confidence = scores[class_id]\n",
    "        class_ids.append(class_id)\n",
    "        confidences.append(float(confidence))\n",
    "        boxes.append(detection[:4])\n",
    "\n",
    "indices = cv2.dnn.NMSBoxes(boxes, confidences, conf_threshold, nms_threshold)\n",
    "bboxes = [YoloBoundingBox(*boxes[i[0]], width, height) for i in indices]\n",
    "\n",
    "\"\"\"\n",
    "bboxes = []\n",
    "test = image\n",
    "for i in indices:\n",
    "    i = i[0]\n",
    "    \n",
    "    x = int(box[0])\n",
    "    y = int(box[1])\n",
    "    w = int(box[2])\n",
    "    h = int(box[3])\n",
    "    print(x,y,w,h)\n",
    "    bboxes.append(image[y:h, x:w])\n",
    "\"\"\""
   ]
  },
  {
   "cell_type": "code",
   "execution_count": null,
   "metadata": {
    "scrolled": true
   },
   "outputs": [],
   "source": [
    "box = bboxes[1]"
   ]
  },
  {
   "cell_type": "code",
   "execution_count": null,
   "metadata": {},
   "outputs": [],
   "source": [
    "plt.imshow(cv2.rectangle(image, tuple(box.top_left), tuple(box.bottom_right), (0,255,0))"
   ]
  },
  {
   "cell_type": "code",
   "execution_count": null,
   "metadata": {},
   "outputs": [],
   "source": [
    "plt.imshow(image)"
   ]
  },
  {
   "cell_type": "code",
   "execution_count": null,
   "metadata": {},
   "outputs": [],
   "source": [
    "alexnet = dnn.readNetFromCaffe('models/', 'bvlc_alexnet.caffemodel')"
   ]
  },
  {
   "cell_type": "code",
   "execution_count": null,
   "metadata": {},
   "outputs": [],
   "source": [
    "alexnet = dnn.readNetFromTensorflow('inception/tensorflow_inception_graph.pb')"
   ]
  },
  {
   "cell_type": "code",
   "execution_count": null,
   "metadata": {},
   "outputs": [],
   "source": [
    "def extract_feature(image, layer_name):\n",
    "    alex_test_blob = dnn.blobFromImage(image, 1/255, (224,224), (0,0,0), swapRB=True, crop=False)\n",
    "    alexnet.setInput(alex_test_blob)\n",
    "    test_outs = alexnet.forward(layer_name)\n",
    "    # print(test_outs.shape)\n",
    "    # return test_outs.reshape(np.prod(test_outs.shape))\n",
    "    return test_outs"
   ]
  },
  {
   "cell_type": "code",
   "execution_count": null,
   "metadata": {},
   "outputs": [],
   "source": []
  },
  {
   "cell_type": "code",
   "execution_count": null,
   "metadata": {},
   "outputs": [],
   "source": [
    "test_outs"
   ]
  },
  {
   "cell_type": "code",
   "execution_count": null,
   "metadata": {},
   "outputs": [],
   "source": [
    "def cos_sim(a, b):\n",
    "    # a = preprocessing.normalize(a.reshape(1,-1))\n",
    "    # b = preprocessing.normalize(b.reshape(1,-1))\n",
    "    # a = a.reshape(a.shape[1])\n",
    "    # b = b.reshape(b.shape[1])\n",
    "    return np.dot(a, b)/(np.linalg.norm(a)*np.linalg.norm(b))\n",
    "    # return np.linalg.norm(a-b)"
   ]
  },
  {
   "cell_type": "code",
   "execution_count": null,
   "metadata": {},
   "outputs": [],
   "source": [
    "def similarity(nda, ndb):\n",
    "    nda = nda[0]\n",
    "    ndb = ndb[0]\n",
    "    \n",
    "    t_nda = np.mean(nda, axis=0,keepdims=True)\n",
    "    t_ndb = np.mean(ndb, axis=0, keepdims=True)\n",
    "    \n",
    "    t_nda = t_nda.reshape(np.prod(t_nda.shape))\n",
    "    t_ndb = t_ndb.reshape(np.prod(t_ndb.shape))\n",
    "    \n",
    "    return cos_sim(t_nda, t_ndb)"
   ]
  },
  {
   "cell_type": "code",
   "execution_count": null,
   "metadata": {},
   "outputs": [],
   "source": [
    "def logm(a):\n",
    "    a = a[0]\n",
    "    vec = []\n",
    "    for i in range(a.shape[0]):\n",
    "        vec.extend(scipy.linalg.logm(a[i], disp=False))\n",
    "    \n",
    "    return np.array(vec)"
   ]
  },
  {
   "cell_type": "code",
   "execution_count": null,
   "metadata": {},
   "outputs": [],
   "source": [
    "def similarity(nda, ndb):\n",
    "    loga = logm(nda)\n",
    "    logb = logm(ndb)\n",
    "    \n",
    "    return cos_sim(loga, logb)\n",
    "    "
   ]
  },
  {
   "cell_type": "code",
   "execution_count": null,
   "metadata": {},
   "outputs": [],
   "source": [
    "from scipy.spatial import distance"
   ]
  },
  {
   "cell_type": "code",
   "execution_count": null,
   "metadata": {},
   "outputs": [],
   "source": [
    "def manhattan_dist(a, b):\n",
    "    return distance.cityblock(a,b)"
   ]
  },
  {
   "cell_type": "code",
   "execution_count": null,
   "metadata": {},
   "outputs": [],
   "source": [
    "test_blob = dnn.blobFromImage(image, 1/255, (224,224), (0,0,0), swapRB=True, crop=False)\n",
    "alexnet.setInput(test_blob)\n",
    "\n",
    "test_outs = alexnet.forward('pool5')\n",
    "# test_outs = test_outs.reshape((1, test_outs.shape[3], test_outs.shape[1], test_outs.shape[2]))"
   ]
  },
  {
   "cell_type": "code",
   "execution_count": null,
   "metadata": {},
   "outputs": [],
   "source": [
    "print(test_outs.shape)\n",
    "out = test_outs[0]\n",
    "rows = round((out.shape[0] ** (1/2)))\n",
    "columns = rows\n",
    "print(rows, columns)\n",
    "fig,axes = plt.subplots(rows,columns, figsize=(15,15))\n",
    "for i in range(rows):\n",
    "    for j in range(columns):\n",
    "        if i*rows + j < out.shape[0]:\n",
    "            axes[i][j].set_xticklabels([])\n",
    "            axes[i][j].set_yticklabels([])\n",
    "            axes[i][j].imshow(out[i*rows +j], cmap='gray')"
   ]
  },
  {
   "cell_type": "code",
   "execution_count": null,
   "metadata": {
    "scrolled": true
   },
   "outputs": [],
   "source": [
    "gap = np.mean(test_outs[0], axis=0)\n",
    "plt.imshow(gap, cmap='gray')"
   ]
  },
  {
   "cell_type": "code",
   "execution_count": null,
   "metadata": {},
   "outputs": [],
   "source": [
    "test_outs.shape"
   ]
  },
  {
   "cell_type": "code",
   "execution_count": null,
   "metadata": {},
   "outputs": [],
   "source": [
    "def showFilters(layerName, reshape=False):\n",
    "    blobs = alexnet.getParam(alexnet.getLayerId(layerName))\n",
    "    s = blobs.shape\n",
    "    if reshape:\n",
    "        blobs = blobs.reshape(s[0], s[2], s[3], s[1])\n",
    "    \n",
    "    r = round(s[0] ** (1/2))\n",
    "    c = r\n",
    "    fig,axes = plt.subplots(r,c, figsize=(10,10))\n",
    "    \n",
    "    for i in range(r):\n",
    "        for j in range(c):\n",
    "            if i*r + j < s[0]:\n",
    "                axes[i][j].set_xticklabels([])\n",
    "                axes[i][j].set_yticklabels([])\n",
    "                x = blobs[i*r + j]\n",
    "                x = x.reshape((x.shape[2], x.shape[0], x.shape[1]))\n",
    "                x[0] += abs(x[0].min())\n",
    "                x[1] += abs(x[1].min())\n",
    "                x[2] += abs(x[2].min())\n",
    "                x = x.reshape((x.shape[1], x.shape[2], x.shape[0]))\n",
    "                axes[i][j].imshow(x)\n",
    "    "
   ]
  },
  {
   "cell_type": "code",
   "execution_count": null,
   "metadata": {},
   "outputs": [],
   "source": [
    "def showFiltersGray(layerName):\n",
    "    blobs = alexnet.getParam(alexnet.getLayerId(layerName))\n",
    "    s = blobs.shape\n",
    "    r = 16\n",
    "    c = 16\n",
    "    fig,axes = plt.subplots(r,c, figsize=(10,10))\n",
    "    \n",
    "    for i in range(r):\n",
    "        for j in range(c):\n",
    "            # if i*r + j < s[0]:\n",
    "                axes[i][j].set_xticklabels([])\n",
    "                axes[i][j].set_yticklabels([])\n",
    "                x = blobs[i][j]\n",
    "                x += abs(x.min())\n",
    "                # x = blobs[i*r + j]\n",
    "                # x = x.reshape((x.shape[2], x.shape[0], x.shape[1]))\n",
    "                # x[0] += abs(x[0].min())\n",
    "                # x[1] += abs(x[1].min())\n",
    "                # x[2] += abs(x[2].min())\n",
    "                # x = x.reshape((x.shape[1], x.shape[2], x.shape[0]))\n",
    "                axes[i][j].imshow(x, cmap='gray')\n",
    "    "
   ]
  },
  {
   "cell_type": "code",
   "execution_count": null,
   "metadata": {
    "scrolled": true
   },
   "outputs": [],
   "source": [
    "showFilters('conv1', True)"
   ]
  },
  {
   "cell_type": "code",
   "execution_count": null,
   "metadata": {
    "scrolled": true
   },
   "outputs": [],
   "source": [
    "showFiltersGray('conv3')"
   ]
  },
  {
   "cell_type": "code",
   "execution_count": null,
   "metadata": {},
   "outputs": [],
   "source": [
    "t = alexnet.getParam(alexnet.getLayerId('conv2'))\n",
    "s = t.shape\n",
    "t = t.reshape(s[0],s[2],s[3],s[1])"
   ]
  },
  {
   "cell_type": "code",
   "execution_count": null,
   "metadata": {},
   "outputs": [],
   "source": [
    "s"
   ]
  },
  {
   "cell_type": "code",
   "execution_count": null,
   "metadata": {},
   "outputs": [],
   "source": [
    "def pca(vecs):\n",
    "    centered_data = vecs - np.mean(vecs)\n",
    "    U, S, V = np.linalg.svd(centered_data, full_matrices=False)\n",
    "    components = V\n",
    "    coefficients = np.dot(U, np.diag(S))\n",
    "    return coefficients"
   ]
  },
  {
   "cell_type": "code",
   "execution_count": null,
   "metadata": {},
   "outputs": [],
   "source": []
  },
  {
   "cell_type": "code",
   "execution_count": null,
   "metadata": {
    "scrolled": false
   },
   "outputs": [],
   "source": [
    "images = [\n",
    "    'amur/plain_reid_train/train/002086.jpg',\n",
    "    'amur/plain_reid_train/train/001888.jpg',\n",
    "    'amur/plain_reid_train/train/004457.jpg'\n",
    "]\n",
    "\n",
    "vecs = []\n",
    "fig,axes = plt.subplots(len(images))\n",
    "x = 0\n",
    "for imgf in images:\n",
    "    image = cv2.imread(imgf)\n",
    "    # test_img = get_bounding_boxes(image)\n",
    "    test_img = image\n",
    "    axes[x].imshow(test_img)\n",
    "    x += 1\n",
    "    feat = extract_feature(test_img, 'pool5')\n",
    "    feat = getLogMFeature(feat)\n",
    "    vecs.append(feat.reshape(np.prod(feat.shape)))\n",
    "    # vecs.append(feat)\n",
    "\n",
    "coeff = vecs # pca(vecs)\n",
    "for i in range(len(coeff)):\n",
    "    for j in range(i+1, len(coeff)):\n",
    "        print('Similarity between Image {} and Image {} is {}'.format(i, j, cos_sim(coeff[i], coeff[j])))\n",
    "    print()\n"
   ]
  },
  {
   "cell_type": "code",
   "execution_count": null,
   "metadata": {},
   "outputs": [],
   "source": [
    "alexnet."
   ]
  },
  {
   "cell_type": "code",
   "execution_count": null,
   "metadata": {},
   "outputs": [],
   "source": [
    "def getLogMFeature(feat):\n",
    "    temp = feat[:]\n",
    "    temp = temp.reshape(np.prod(temp.shape))\n",
    "    for i in range(len(temp)):\n",
    "        if temp[i] == 0.0:\n",
    "            temp[i] = 1e-8\n",
    "    temp = temp.reshape(feat.shape)\n",
    "    return np.tril(temp)"
   ]
  },
  {
   "cell_type": "code",
   "execution_count": null,
   "metadata": {},
   "outputs": [],
   "source": []
  },
  {
   "cell_type": "code",
   "execution_count": null,
   "metadata": {},
   "outputs": [],
   "source": [
    "test = vecs[0].reshape((1,384,13,13))"
   ]
  },
  {
   "cell_type": "code",
   "execution_count": null,
   "metadata": {},
   "outputs": [],
   "source": [
    "fig,axes = plt.subplots(19,19, figsize=(15,15))\n",
    "for i in range(19):\n",
    "    for j in range(19):\n",
    "        axes[i][j].set_xticklabels([])\n",
    "        axes[i][j].set_yticklabels([])\n",
    "        axes[i][j].imshow(test[0][i*19 + j], cmap='gray')"
   ]
  },
  {
   "cell_type": "code",
   "execution_count": null,
   "metadata": {
    "scrolled": true
   },
   "outputs": [],
   "source": [
    "gap = np.mean(test[0], axis=0,keepdims=True)"
   ]
  },
  {
   "cell_type": "code",
   "execution_count": null,
   "metadata": {},
   "outputs": [],
   "source": [
    "r = tuple([x for x in range(13)])"
   ]
  },
  {
   "cell_type": "code",
   "execution_count": null,
   "metadata": {},
   "outputs": [],
   "source": [
    "vecs[0].shape"
   ]
  },
  {
   "cell_type": "code",
   "execution_count": null,
   "metadata": {
    "scrolled": true
   },
   "outputs": [],
   "source": [
    "gap.re"
   ]
  },
  {
   "cell_type": "code",
   "execution_count": null,
   "metadata": {},
   "outputs": [],
   "source": [
    "cos_sim(tiger, el_1)"
   ]
  },
  {
   "cell_type": "code",
   "execution_count": null,
   "metadata": {},
   "outputs": [],
   "source": [
    "print(test_outs.shape)\n",
    "out = test_outs[0]\n",
    "rows = round((out.shape[0] ** (1/2)))\n",
    "columns = rows\n",
    "print(rows, columns)\n",
    "fig,axes = plt.subplots(rows,columns, figsize=(15,15))\n",
    "for i in range(rows):\n",
    "    for j in range(columns):\n",
    "        if i*rows + j < out.shape[0]:\n",
    "            axes[i][j].set_xticklabels([])\n",
    "            axes[i][j].set_yticklabels([])\n",
    "            axes[i][j].imshow(out[i*rows +j], cmap='gray')"
   ]
  },
  {
   "cell_type": "code",
   "execution_count": null,
   "metadata": {},
   "outputs": [],
   "source": [
    "labels[np.argmax(test_outs)]"
   ]
  },
  {
   "cell_type": "code",
   "execution_count": null,
   "metadata": {},
   "outputs": [],
   "source": [
    "labels = []\n",
    "with open('synset_words.txt') as f:\n",
    "    labels = np.loadtxt(f, str, delimiter='\\t')\n",
    "    f.close()"
   ]
  },
  {
   "cell_type": "code",
   "execution_count": null,
   "metadata": {},
   "outputs": [],
   "source": [
    "gray = cv2.cvtColor(image, cv2.COLOR_BGR2GRAY)\n",
    "plt.imshow(cv2.threshold(gray, 0, 1, cv2.THRESH_OTSU)[1], cmap='gray')"
   ]
  }
 ],
 "metadata": {
  "kernelspec": {
   "display_name": "Python 3",
   "language": "python",
   "name": "python3"
  },
  "language_info": {
   "codemirror_mode": {
    "name": "ipython",
    "version": 3
   },
   "file_extension": ".py",
   "mimetype": "text/x-python",
   "name": "python",
   "nbconvert_exporter": "python",
   "pygments_lexer": "ipython3",
   "version": "3.6.8"
  }
 },
 "nbformat": 4,
 "nbformat_minor": 2
}
