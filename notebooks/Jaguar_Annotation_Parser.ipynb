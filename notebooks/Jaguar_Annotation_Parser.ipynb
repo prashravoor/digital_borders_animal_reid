{
 "cells": [
  {
   "cell_type": "code",
   "execution_count": null,
   "metadata": {},
   "outputs": [],
   "source": [
    "import xml.etree.ElementTree as ET\n",
    "import json\n",
    "import os\n",
    "import sys\n",
    "import cv2\n",
    "import matplotlib.pyplot as plt\n"
   ]
  },
  {
   "cell_type": "code",
   "execution_count": null,
   "metadata": {},
   "outputs": [],
   "source": [
    "class JaguarAnnotationParser:\n",
    "    def __init__(self, filename):\n",
    "        self.filename = filename\n",
    "\n",
    "    def parse(self):\n",
    "        self.root = ET.parse(self.filename).getroot()\n",
    "\n",
    "    def getBoundingBoxes(self):\n",
    "        bboxes = []\n",
    "        for bbox in self.root.iter('bndbox'):\n",
    "            box = []\n",
    "            for point in bbox:\n",
    "                box.append(int(point.text))\n",
    "            bboxes.append(box)\n",
    "        return bboxes\n",
    "\n",
    "    def getImageFileName(self):\n",
    "        return os.path.dirname(self.filename) \\\n",
    "                + '/../' \\\n",
    "                + os.path.basename(self.filename).split('.')[0] \\\n",
    "                + '.jpg'\n",
    "\n",
    "    def getWidth(self):\n",
    "        return int(self.root.find('size')[0].text)\n",
    "\n",
    "    def getHeight(self):\n",
    "        return int(self.root.find('size')[1].text)\n",
    "\n",
    "    def getClassName(self):\n",
    "        return 'jaguar'\n"
   ]
  },
  {
   "cell_type": "code",
   "execution_count": null,
   "metadata": {},
   "outputs": [],
   "source": [
    "folder = 'jaguars/annotations'\n",
    "files = ['{}/{}'.format(folder, x.strip()) for x in os.listdir(folder)]"
   ]
  },
  {
   "cell_type": "code",
   "execution_count": null,
   "metadata": {},
   "outputs": [],
   "source": [
    "n = min(1, len(files))\n",
    "files = files[:n]\n",
    "n = len(files)"
   ]
  },
  {
   "cell_type": "code",
   "execution_count": null,
   "metadata": {
    "scrolled": true
   },
   "outputs": [],
   "source": [
    "result = {}\n",
    "for file in files:\n",
    "    obj = JaguarAnnotationParser(file)\n",
    "    obj.parse()\n",
    "    image = cv2.imread(obj.getImageFileName())\n",
    "    print(image.shape)\n",
    "    bboxes = obj.getBoundingBoxes()\n",
    "    fig,axes = plt.subplots(len(bboxes))\n",
    "    if len(bboxes) == 1:\n",
    "        axes = [axes]\n",
    "\n",
    "    for i in range(len(bboxes)):\n",
    "        box = bboxes[i]\n",
    "        print(box[0], box[1], box[2], box[3])\n",
    "        axes[i].imshow(image[box[1]:box[3]][box[0]:box[2]])\n",
    "    plt.show()\n"
   ]
  },
  {
   "cell_type": "code",
   "execution_count": null,
   "metadata": {},
   "outputs": [],
   "source": [
    "plt.imshow(image[457:681, 1264:1605 :])"
   ]
  }
 ],
 "metadata": {
  "kernelspec": {
   "display_name": "Python 3",
   "language": "python",
   "name": "python3"
  },
  "language_info": {
   "codemirror_mode": {
    "name": "ipython",
    "version": 3
   },
   "file_extension": ".py",
   "mimetype": "text/x-python",
   "name": "python",
   "nbconvert_exporter": "python",
   "pygments_lexer": "ipython3",
   "version": "3.6.9"
  }
 },
 "nbformat": 4,
 "nbformat_minor": 2
}
