{
 "cells": [
  {
   "cell_type": "code",
   "execution_count": 4,
   "metadata": {},
   "outputs": [],
   "source": [
    "import glob\n",
    "import os"
   ]
  },
  {
   "cell_type": "code",
   "execution_count": 13,
   "metadata": {},
   "outputs": [],
   "source": [
    "jpgs = glob.glob('jaguars/**/*.JPG', recursive=True)"
   ]
  },
  {
   "cell_type": "code",
   "execution_count": 14,
   "metadata": {},
   "outputs": [],
   "source": [
    "mapping = {}\n",
    "for img in jpgs:\n",
    "    folder = os.path.basename(os.path.dirname(img))\n",
    "    if ' ' in folder:\n",
    "        jagid = folder.split(' ')[-1].lower()\n",
    "    else:\n",
    "        jagid = folder.split('-')[-1].lower()\n",
    "    if jagid not in mapping:\n",
    "        mapping[jagid] = []\n",
    "    \n",
    "    mapping[jagid].append(img)    "
   ]
  },
  {
   "cell_type": "code",
   "execution_count": 18,
   "metadata": {},
   "outputs": [],
   "source": [
    "with open('jaguars/label_mapping.csv', 'w') as f:\n",
    "    for k,v in mapping.items():\n",
    "        for val in v:\n",
    "            f.write('{},{}\\n'.format(val, k))\n",
    "    f.close()    "
   ]
  },
  {
   "cell_type": "code",
   "execution_count": 26,
   "metadata": {},
   "outputs": [],
   "source": [
    "newMapping = {}\n",
    "for key,value in mapping.items():\n",
    "    count = 0\n",
    "    for v in value:\n",
    "        newMapping[v] = 'jaguars/{}_{}.jpg'.format(key, count)\n",
    "        count += 1"
   ]
  },
  {
   "cell_type": "code",
   "execution_count": 28,
   "metadata": {},
   "outputs": [],
   "source": [
    "for key, val in newMapping.items():\n",
    "    os.rename(key, val)"
   ]
  }
 ],
 "metadata": {
  "kernelspec": {
   "display_name": "Python 3",
   "language": "python",
   "name": "python3"
  },
  "language_info": {
   "codemirror_mode": {
    "name": "ipython",
    "version": 3
   },
   "file_extension": ".py",
   "mimetype": "text/x-python",
   "name": "python",
   "nbconvert_exporter": "python",
   "pygments_lexer": "ipython3",
   "version": "3.6.8"
  }
 },
 "nbformat": 4,
 "nbformat_minor": 2
}
