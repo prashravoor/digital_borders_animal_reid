{
 "cells": [
  {
   "cell_type": "code",
   "execution_count": null,
   "metadata": {},
   "outputs": [],
   "source": [
    "import matplotlib.pyplot as plt\n",
    "import numpy as np\n",
    "import cv2\n",
    "import tensorflow as tf\n",
    "import im_utils\n",
    "import object_detection\n",
    "from object_detection import ObjectDetector\n",
    "import time"
   ]
  },
  {
   "cell_type": "code",
   "execution_count": null,
   "metadata": {},
   "outputs": [],
   "source": [
    "labels = {}\n",
    "with open('ssd/label_mapping.csv') as f:\n",
    "    lines = [(x.split(',')[0], x.split(',')[1].strip()) for x in f.readlines()]\n",
    "    labels = {int(x[0]): x[1] for x in lines}\n",
    "    f.close()"
   ]
  },
  {
   "cell_type": "code",
   "execution_count": null,
   "metadata": {
    "scrolled": true
   },
   "outputs": [],
   "source": [
    "start = time.time()\n",
    "det = ObjectDetector('ssd/saved_model')\n",
    "det.loadModel()\n",
    "print('Model Load Time: {:.3f}s'.format(time.time() - start))"
   ]
  },
  {
   "cell_type": "code",
   "execution_count": null,
   "metadata": {},
   "outputs": [],
   "source": [
    "def detectAndShow(imname):\n",
    "    image = cv2.imread(imname)\n",
    "    image = cv2.resize(image, (600,600))\n",
    "    start = time.time()\n",
    "    res = det.getBoundingBoxes(image)\n",
    "    print('Inference Time: {:.3f}s'.format(time.time() - start))\n",
    "    for r in res:\n",
    "        image = im_utils.drawBoundingBoxWithLabel(image, r, labels, thickness=8)\n",
    "    plt.imshow(image[:,:,(2,1,0)])"
   ]
  },
  {
   "cell_type": "code",
   "execution_count": null,
   "metadata": {},
   "outputs": [],
   "source": [
    "detectAndShow('amur_small/003323.jpg')"
   ]
  },
  {
   "cell_type": "code",
   "execution_count": null,
   "metadata": {},
   "outputs": [],
   "source": [
    "detectAndShow('elp_small/2241_Khysie I left head_2014.jpg')"
   ]
  },
  {
   "cell_type": "code",
   "execution_count": null,
   "metadata": {},
   "outputs": [],
   "source": [
    "detectAndShow('amur/detection_train/trainval/4410.jpg')"
   ]
  }
 ],
 "metadata": {
  "kernelspec": {
   "display_name": "Python 3",
   "language": "python",
   "name": "python3"
  },
  "language_info": {
   "codemirror_mode": {
    "name": "ipython",
    "version": 3
   },
   "file_extension": ".py",
   "mimetype": "text/x-python",
   "name": "python",
   "nbconvert_exporter": "python",
   "pygments_lexer": "ipython3",
   "version": "3.6.8"
  }
 },
 "nbformat": 4,
 "nbformat_minor": 2
}
